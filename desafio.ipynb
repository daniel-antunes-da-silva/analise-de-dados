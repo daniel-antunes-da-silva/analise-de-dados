{
 "cells": [
  {
   "cell_type": "code",
   "execution_count": 7,
   "metadata": {},
   "outputs": [
    {
     "name": "stdout",
     "output_type": "stream",
     "text": [
      "4.25\n",
      "1\n",
      "8\n",
      "[1. 3. 3.]\n"
     ]
    }
   ],
   "source": [
    "import numpy as np\n",
    "\n",
    "# Desafio 1\n",
    "# Dado o array de numeros abaixo, calcule a média dos números e exiba o resultado.\n",
    "numeros = np.array([5, 8, 1, 3])\n",
    "print(np.mean(numeros))\n",
    "\n",
    "# Desafio 2\n",
    "# Encontre o valor mínimo dentro deste array e exiba o resultado.\n",
    "print(np.min(numeros))\n",
    "\n",
    "# Desafio 3\n",
    "# Encontre o índice do maior valor deste array e exiba o resultado.\n",
    "print(np.max(numeros))\n",
    "\n",
    "# Desafio 4\n",
    "# Arredonde os valores do seguinte array de decimais e exiba o resultado\n",
    "decimais = np.array([1.1, 2.6, 3.4])\n",
    "print(np.round(decimais))"
   ]
  },
  {
   "cell_type": "markdown",
   "metadata": {},
   "source": [
    "# BROADCASTING\n",
    "\n",
    "Irá esticar um valor que você definir, para ter a mesma quantidade de itens que o array original, e asim poder fazer as contas."
   ]
  },
  {
   "cell_type": "code",
   "execution_count": 3,
   "metadata": {},
   "outputs": [
    {
     "data": {
      "text/plain": [
       "array([[2, 4, 4],\n",
       "       [5, 7, 7]])"
      ]
     },
     "execution_count": 3,
     "metadata": {},
     "output_type": "execute_result"
    }
   ],
   "source": [
    "import numpy as np\n",
    "\n",
    "matriz_2x3 = np.array([[1, 2, 3], [4, 5, 6]])\n",
    "numeros = np.array([1, 2, 1])\n",
    "\n",
    "matriz_2x3 + numeros"
   ]
  },
  {
   "cell_type": "code",
   "execution_count": null,
   "metadata": {},
   "outputs": [],
   "source": []
  }
 ],
 "metadata": {
  "kernelspec": {
   "display_name": "jhonatan",
   "language": "python",
   "name": "python3"
  },
  "language_info": {
   "codemirror_mode": {
    "name": "ipython",
    "version": 3
   },
   "file_extension": ".py",
   "mimetype": "text/x-python",
   "name": "python",
   "nbconvert_exporter": "python",
   "pygments_lexer": "ipython3",
   "version": "3.12.0"
  }
 },
 "nbformat": 4,
 "nbformat_minor": 2
}
