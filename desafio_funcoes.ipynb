{
 "cells": [
  {
   "cell_type": "code",
   "execution_count": 3,
   "metadata": {},
   "outputs": [
    {
     "name": "stdout",
     "output_type": "stream",
     "text": [
      "[3.16227766 4.47213595 6.32455532 8.36660027]\n",
      "----------------------------------------\n",
      "6.831300510639732\n"
     ]
    }
   ],
   "source": [
    "import numpy as np\n",
    "\n",
    "# Desafio 1 - Dado o array abaixo, calcule a raiz quadrada de cada número\n",
    "numeros = [10,20,40,70]\n",
    "print(np.sqrt(numeros))\n",
    "\n",
    "print('-'*40)\n",
    "\n",
    "# Desafio 2 - Dado o array de pesos de candidatos abaixo, calcule o desvio padrão.\n",
    "pesos = [40, 42, 41, 43, 44, 60]\n",
    "print(np.std(pesos))\n",
    "\n"
   ]
  }
 ],
 "metadata": {
  "kernelspec": {
   "display_name": "jhonatan",
   "language": "python",
   "name": "python3"
  },
  "language_info": {
   "codemirror_mode": {
    "name": "ipython",
    "version": 3
   },
   "file_extension": ".py",
   "mimetype": "text/x-python",
   "name": "python",
   "nbconvert_exporter": "python",
   "pygments_lexer": "ipython3",
   "version": "3.12.0"
  }
 },
 "nbformat": 4,
 "nbformat_minor": 2
}
