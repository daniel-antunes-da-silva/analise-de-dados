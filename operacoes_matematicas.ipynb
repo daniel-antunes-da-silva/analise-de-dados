{
 "cells": [
  {
   "cell_type": "code",
   "execution_count": 4,
   "metadata": {},
   "outputs": [
    {
     "name": "stdout",
     "output_type": "stream",
     "text": [
      "[50 70 90]\n"
     ]
    },
    {
     "data": {
      "text/plain": [
       "array([0.25, 0.4 , 0.5 ])"
      ]
     },
     "execution_count": 4,
     "metadata": {},
     "output_type": "execute_result"
    }
   ],
   "source": [
    "import numpy as np\n",
    "\n",
    "pesos_1 = np.array([10, 20, 30])\n",
    "pesos_2 = np.array([40, 50, 60])\n",
    "\n",
    "# Soma os valores correspondentes em cada array\n",
    "print(pesos_1 + pesos_2)\n",
    "\n",
    "pesos_1 - pesos_2\n",
    "\n",
    "pesos_1 * pesos_2\n",
    "\n",
    "pesos_1 / pesos_2"
   ]
  },
  {
   "cell_type": "code",
   "execution_count": null,
   "metadata": {},
   "outputs": [],
   "source": [
    "import numpy as np\n",
    "\n",
    "pesos_1 = np.array([10, 20, 30])\n",
    "pesos_2 = np.array([40, 50, 60])\n",
    "\n",
    "\n",
    "# soma\n",
    "pesos_1"
   ]
  },
  {
   "cell_type": "markdown",
   "metadata": {},
   "source": [
    "# Funções estatísticas mais utilizadas"
   ]
  },
  {
   "cell_type": "code",
   "execution_count": 9,
   "metadata": {},
   "outputs": [
    {
     "name": "stdout",
     "output_type": "stream",
     "text": [
      "2\n",
      "10\n",
      "6.4\n",
      "7.0\n",
      "32\n",
      "------------------------------\n",
      "2\n",
      "3\n",
      "[ 4 13 15 25 32]\n"
     ]
    }
   ],
   "source": [
    "import numpy as np\n",
    "\n",
    "numeros = np.array([4, 9, 2, 10, 7])\n",
    "\n",
    "print(np.min(numeros))\n",
    "print(np.max(numeros))\n",
    "print(np.mean(numeros))\n",
    "print(np.median(numeros))\n",
    "print(np.sum(numeros))\n",
    "\n",
    "# Para encontrar o índice (ou seja, a localização)\n",
    "print('-'*30)\n",
    "print(np.argmin(numeros))\n",
    "print(np.argmax(numeros))\n",
    "\n",
    "# Soma cumulativa\n",
    "print(np.cumsum(numeros))\n"
   ]
  },
  {
   "cell_type": "code",
   "execution_count": 10,
   "metadata": {},
   "outputs": [
    {
     "name": "stdout",
     "output_type": "stream",
     "text": [
      "[2. 3. 5.]\n"
     ]
    }
   ],
   "source": [
    "decimais = np.array([2.5, 3.2, 4.8])\n",
    "print(np.round(decimais))"
   ]
  }
 ],
 "metadata": {
  "kernelspec": {
   "display_name": "daniel",
   "language": "python",
   "name": "python3"
  },
  "language_info": {
   "codemirror_mode": {
    "name": "ipython",
    "version": 3
   },
   "file_extension": ".py",
   "mimetype": "text/x-python",
   "name": "python",
   "nbconvert_exporter": "python",
   "pygments_lexer": "ipython3",
   "version": "3.12.0"
  }
 },
 "nbformat": 4,
 "nbformat_minor": 2
}
