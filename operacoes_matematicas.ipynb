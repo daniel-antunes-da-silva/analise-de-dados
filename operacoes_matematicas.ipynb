{
 "cells": [
  {
   "cell_type": "code",
   "execution_count": 4,
   "metadata": {},
   "outputs": [
    {
     "name": "stdout",
     "output_type": "stream",
     "text": [
      "[50 70 90]\n"
     ]
    },
    {
     "data": {
      "text/plain": [
       "array([0.25, 0.4 , 0.5 ])"
      ]
     },
     "execution_count": 4,
     "metadata": {},
     "output_type": "execute_result"
    }
   ],
   "source": [
    "import numpy as np\n",
    "\n",
    "pesos_1 = np.array([10, 20, 30])\n",
    "pesos_2 = np.array([40, 50, 60])\n",
    "\n",
    "# Soma os valores correspondentes em cada array\n",
    "print(pesos_1 + pesos_2)\n",
    "\n",
    "pesos_1 - pesos_2\n",
    "\n",
    "pesos_1 * pesos_2\n",
    "\n",
    "pesos_1 / pesos_2"
   ]
  },
  {
   "cell_type": "code",
   "execution_count": null,
   "metadata": {},
   "outputs": [],
   "source": [
    "import numpy as np\n",
    "\n",
    "pesos_1 = np.array([10, 20, 30])\n",
    "pesos_2 = np.array([40, 50, 60])\n",
    "\n",
    "\n",
    "# soma\n",
    "pesos_1"
   ]
  }
 ],
 "metadata": {
  "kernelspec": {
   "display_name": "daniel",
   "language": "python",
   "name": "python3"
  },
  "language_info": {
   "codemirror_mode": {
    "name": "ipython",
    "version": 3
   },
   "file_extension": ".py",
   "mimetype": "text/x-python",
   "name": "python",
   "nbconvert_exporter": "python",
   "pygments_lexer": "ipython3",
   "version": "3.12.0"
  }
 },
 "nbformat": 4,
 "nbformat_minor": 2
}
