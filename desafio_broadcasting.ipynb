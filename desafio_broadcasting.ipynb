{
 "cells": [
  {
   "cell_type": "code",
   "execution_count": 6,
   "metadata": {},
   "outputs": [
    {
     "name": "stdout",
     "output_type": "stream",
     "text": [
      "[20 30 40 50 60]\n",
      "----------------------------------------\n",
      "[[ 0  5]\n",
      " [10 15]\n",
      " [20 25]]\n",
      "----------------------------------------\n",
      "[[10 30]\n",
      " [30 60]\n",
      " [50 90]]\n"
     ]
    }
   ],
   "source": [
    "import numpy as np \n",
    "\n",
    "# Desafio 1 - Dado o seguinte array, some o valor 10 a cada elemento usando broadcasting.\n",
    "array = np.array([10, 20, 30, 40, 50])\n",
    "valor = 10\n",
    "print(array + valor)\n",
    "\n",
    "print('-'*40)\n",
    "# Desafio 2 - Dada a matriz abaixo, subtraia o array [5, 5] de cada linha usando broadcasting.\n",
    "matriz = np.array([[5, 10], [15, 20], [25, 30]])\n",
    "vetor = np.array([5, 5])\n",
    "\n",
    "print(matriz - vetor)\n",
    "print('-'*40)\n",
    "\n",
    "# Desafio 3 - Multiplique cada coluna da matriz abaixo pelo array [2, 3].\n",
    "matriz = np.array([[5, 10], [15, 20], [25, 30]])\n",
    "vetor = np.array([2, 3])\n",
    "\n",
    "print(matriz * vetor)\n"
   ]
  }
 ],
 "metadata": {
  "kernelspec": {
   "display_name": "jhonatan",
   "language": "python",
   "name": "python3"
  },
  "language_info": {
   "codemirror_mode": {
    "name": "ipython",
    "version": 3
   },
   "file_extension": ".py",
   "mimetype": "text/x-python",
   "name": "python",
   "nbconvert_exporter": "python",
   "pygments_lexer": "ipython3",
   "version": "3.12.0"
  }
 },
 "nbformat": 4,
 "nbformat_minor": 2
}
